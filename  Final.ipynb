{
 "cells": [
  {
   "cell_type": "code",
   "execution_count": 1,
   "metadata": {},
   "outputs": [],
   "source": [
    "import pandas as pd\n",
    "import numpy as np"
   ]
  },
  {
   "cell_type": "code",
   "execution_count": 2,
   "metadata": {},
   "outputs": [],
   "source": [
    "df = pd.read_csv(\"Posts.csv\")"
   ]
  },
  {
   "cell_type": "code",
   "execution_count": 3,
   "metadata": {},
   "outputs": [],
   "source": [
    "df['Text'] = df['Text'].str.lower()\n",
    "\n",
    "#df['Text'] = df['Text'].str.replace('(#(\\w)+)', '')\n",
    "#df['Text'] = df['Text'].str.replace('(@(\\w)+)', '')\n",
    "\n",
    "#df['Text'] = df['Text'].str.replace('&', 'and')\n",
    "#df['Text'] = df['Text'].str.replace('a-z0-9\\.\\?\\:\\. |', '')\n",
    "#df['Text'] = df['Text'].str.replace('<[^<>]+>', '')\n",
    "#df['Text'] = df['Text'].str.replace('[0-9]+', 'number')\n",
    "#df['Text'] = df['Text'].str.replace('(http|https)://[^\\s]*', '')\n",
    "#df['Text'] = df['Text'].str.replace('[\\.]+', '.')\n",
    "#df['Text'] = df['Text'].str.replace('[\\,]+', ',')\n",
    "#df['Text'] = df['Text'].str.replace('[\\?]+', '?')\n",
    "#df['Text'] = df['Text'].str.replace('[\\!]+', '!')\n",
    "\n",
    "#df['Text'] = df['Text'].str.replace('yall', 'you all')\n",
    "#df['Text'] = df['Text'].str.replace('im', 'i am')\n",
    "#df['Text'] = df['Text'].str.replace('id', 'i would')\n",
    "#df['Text'] = df['Text'].str.replace('hes', 'he is')\n",
    "#df['Text'] = df['Text'].str.replace('its', 'it is')\n",
    "#df['Text'] = df['Text'].str.replace('isnt', 'is not')\n",
    "#df['Text'] = df['Text'].str.replace('arent', 'are not')\n",
    "#df['Text'] = df['Text'].str.replace('lemme', 'let me')\n",
    "#df['Text'] = df['Text'].str.replace('imma', 'i am going to')\n",
    "#df['Text'] = df['Text'].str.replace('cant', 'can not')\n",
    "#df['Text'] = df['Text'].str.replace('dont', 'do not')\n",
    "#df['Text'] = df['Text'].str.replace('didnt', 'did not')\n",
    "#df['Text'] = df['Text'].str.replace('doesnt', 'does not')\n",
    "#df['Text'] = df['Text'].str.replace('wouldnt', 'would not')\n",
    "#df['Text'] = df['Text'].str.replace('hasnt', 'has not')\n",
    "#df['Text'] = df['Text'].str.replace('havent', 'have not')\n",
    "#df['Text'] = df['Text'].str.replace('gonna', 'going to')\n",
    "#df['Text'] = df['Text'].str.replace('gotta', 'got to')\n",
    "#df['Text'] = df['Text'].str.replace('idk', 'i do not know')\n",
    "#df['Text'] = df['Text'].str.replace('kms', 'kill myself')\n",
    "#df['Text'] = df['Text'].str.replace('tf', 'the fuck')\n",
    "#df['Text'] = df['Text'].str.replace('wtf', 'what the fuck')\n",
    "#df['Text'] = df['Text'].str.replace('stfu', 'shut the fuck up')\n",
    "#df['Text'] = df['Text'].str.replace('fk', 'fuck')\n",
    "#df['Text'] = df['Text'].str.replace('rly', 'really')"
   ]
  },
  {
   "cell_type": "code",
   "execution_count": 4,
   "metadata": {},
   "outputs": [],
   "source": [
    "x_data = df['Text'].values\n",
    "y_data = df['Ideation'].values"
   ]
  },
  {
   "cell_type": "code",
   "execution_count": 5,
   "metadata": {},
   "outputs": [],
   "source": [
    "from sklearn.feature_extraction.text import CountVectorizer\n",
    "from sklearn.model_selection import train_test_split\n",
    "from sklearn.linear_model import LogisticRegression\n",
    "from sklearn.preprocessing import OneHotEncoder"
   ]
  },
  {
   "cell_type": "code",
   "execution_count": 6,
   "metadata": {},
   "outputs": [],
   "source": [
    "x_train, x_test, y_train, y_test = train_test_split(x_data, y_data, test_size = 0.25, random_state = 42)"
   ]
  },
  {
   "cell_type": "code",
   "execution_count": 7,
   "metadata": {},
   "outputs": [],
   "source": [
    "import tensorflow as tf\n",
    "from tensorflow import keras\n",
    "from tensorflow.keras import layers\n",
    "from tensorflow.keras.models import Sequential"
   ]
  },
  {
   "cell_type": "code",
   "execution_count": 8,
   "metadata": {},
   "outputs": [],
   "source": [
    "from tensorflow.keras.preprocessing.text import Tokenizer\n",
    "\n",
    "tokenizer = Tokenizer(num_words = 5000)\n",
    "tokenizer.fit_on_texts(x_train)\n",
    "\n",
    "X_train = tokenizer.texts_to_sequences(x_train)\n",
    "X_test = tokenizer.texts_to_sequences(x_test)\n",
    "\n",
    "vocab_size = len(tokenizer.word_index) + 1"
   ]
  },
  {
   "cell_type": "code",
   "execution_count": 9,
   "metadata": {},
   "outputs": [],
   "source": [
    "from tensorflow.keras.preprocessing.sequence import pad_sequences\n",
    "\n",
    "maxlen = 50\n",
    "X_train = pad_sequences(X_train, padding = 'post', maxlen = maxlen)\n",
    "X_test = pad_sequences(X_test, padding = 'post', maxlen = maxlen)"
   ]
  },
  {
   "cell_type": "code",
   "execution_count": 10,
   "metadata": {},
   "outputs": [],
   "source": [
    "encoder = OneHotEncoder(sparse = False)\n",
    "\n",
    "y_train = y_train.reshape((len(y_train), 1))\n",
    "y_train = encoder.fit_transform(y_train)\n",
    "\n",
    "y_test = y_test.reshape((len(y_test), 1))\n",
    "y_test = encoder.fit_transform(y_test)"
   ]
  },
  {
   "cell_type": "code",
   "execution_count": 11,
   "metadata": {},
   "outputs": [],
   "source": [
    "import matplotlib.pyplot as plt\n",
    "plt.style.use('ggplot')\n",
    "\n",
    "def plot_history(history):\n",
    "    acc = history.history['accuracy']\n",
    "    val_acc = history.history['val_accuracy']\n",
    "    loss = history.history['loss']\n",
    "    val_loss = history.history['val_loss']\n",
    "    x = range(1, len(acc) + 1)\n",
    "    \n",
    "    plt.figure(figsize = (12, 5))\n",
    "    plt.subplot(1, 2, 1)\n",
    "    plt.plot(x, acc, 'b', label = 'Training accuracy')\n",
    "    plt.plot(x, val_acc, 'r', label = 'Validation accuracy')\n",
    "    plt.title('Training and validation acccuracy')\n",
    "    plt.legend()\n",
    "    \n",
    "    plt.subplot(1, 2, 2)\n",
    "    plt.plot(x, loss, 'b', label = 'Training loss')\n",
    "    plt.plot(x, val_loss, 'r', label = 'Validation loss')\n",
    "    plt.title('Training and validation loss')\n",
    "    plt.legend()"
   ]
  },
  {
   "cell_type": "code",
   "execution_count": 12,
   "metadata": {},
   "outputs": [],
   "source": [
    "import numpy as np\n",
    "\n",
    "def create_embedding_matrix(filepath, word_index, embedding_dim):\n",
    "    vocab_size = len(word_index) + 1\n",
    "    embedding_matrix = np.zeros((vocab_size, embedding_dim))\n",
    "    \n",
    "    with open(filepath, encoding = 'utf8') as f:\n",
    "        for line in f:\n",
    "            values = line.split()\n",
    "            if values[0] in word_index:\n",
    "                idx = word_index[values[0]]\n",
    "                embedding_matrix[idx] = np.asarray(values[1:embedding_dim+1], 'float32')\n",
    "                \n",
    "    return embedding_matrix"
   ]
  },
  {
   "cell_type": "code",
   "execution_count": 13,
   "metadata": {},
   "outputs": [],
   "source": [
    "embedding_dim = 50\n",
    "embedding_matrix = create_embedding_matrix('glove.twitter.27B.50d.txt', \n",
    "                                           tokenizer.word_index, \n",
    "                                           embedding_dim)"
   ]
  },
  {
   "cell_type": "code",
   "execution_count": 37,
   "metadata": {},
   "outputs": [
    {
     "name": "stdout",
     "output_type": "stream",
     "text": [
      "Model: \"sequential_3\"\n",
      "_________________________________________________________________\n",
      "Layer (type)                 Output Shape              Param #   \n",
      "=================================================================\n",
      "embedding_3 (Embedding)      (None, 50, 200)           451600    \n",
      "_________________________________________________________________\n",
      "conv1d_5 (Conv1D)            (None, 48, 32)            19232     \n",
      "_________________________________________________________________\n",
      "max_pooling1d_5 (MaxPooling1 (None, 46, 32)            0         \n",
      "_________________________________________________________________\n",
      "dropout_7 (Dropout)          (None, 46, 32)            0         \n",
      "_________________________________________________________________\n",
      "bidirectional_1 (Bidirection (None, 64)                16640     \n",
      "_________________________________________________________________\n",
      "dense_5 (Dense)              (None, 16)                1040      \n",
      "_________________________________________________________________\n",
      "dropout_8 (Dropout)          (None, 16)                0         \n",
      "_________________________________________________________________\n",
      "dense_6 (Dense)              (None, 3)                 51        \n",
      "=================================================================\n",
      "Total params: 488,563\n",
      "Trainable params: 488,563\n",
      "Non-trainable params: 0\n",
      "_________________________________________________________________\n"
     ]
    }
   ],
   "source": [
    "#LSTM\n",
    "\n",
    "model = Sequential()\n",
    "model.add(layers.Embedding(input_dim = vocab_size, \n",
    "                           output_dim = embedding_dim,\n",
    "                           weights = [embedding_matrix],\n",
    "                           input_length = maxlen,\n",
    "                           trainable = True))\n",
    "model.add(layers.Conv1D(32, 3, padding = 'valid', strides = 1, activation = 'relu'))\n",
    "model.add(layers.MaxPool1D(pool_size = 3, strides = 1, padding = 'valid'))\n",
    "model.add(layers.Dropout(0.3))\n",
    "model.add(layers.Bidirectional(layers.LSTM(32)))\n",
    "model.add(layers.Dense(16, activation = 'relu'))\n",
    "model.add(layers.Dropout(0.3))\n",
    "model.add(layers.Dense(3, activation = 'softmax'))\n",
    "model.compile(optimizer = 'adam',\n",
    "              loss = 'categorical_crossentropy',\n",
    "              metrics = ['accuracy'])\n",
    "model.summary()"
   ]
  },
  {
   "cell_type": "code",
   "execution_count": 14,
   "metadata": {},
   "outputs": [
    {
     "name": "stdout",
     "output_type": "stream",
     "text": [
      "Model: \"sequential\"\n",
      "_________________________________________________________________\n",
      "Layer (type)                 Output Shape              Param #   \n",
      "=================================================================\n",
      "embedding (Embedding)        (None, 50, 50)            112900    \n",
      "_________________________________________________________________\n",
      "conv1d (Conv1D)              (None, 48, 32)            4832      \n",
      "_________________________________________________________________\n",
      "max_pooling1d (MaxPooling1D) (None, 46, 32)            0         \n",
      "_________________________________________________________________\n",
      "dropout (Dropout)            (None, 46, 32)            0         \n",
      "_________________________________________________________________\n",
      "gru (GRU)                    (None, 46, 32)            6336      \n",
      "_________________________________________________________________\n",
      "gru_1 (GRU)                  (None, 16)                2400      \n",
      "_________________________________________________________________\n",
      "dense (Dense)                (None, 3)                 51        \n",
      "=================================================================\n",
      "Total params: 126,519\n",
      "Trainable params: 126,519\n",
      "Non-trainable params: 0\n",
      "_________________________________________________________________\n"
     ]
    }
   ],
   "source": [
    "#GRU\n",
    "\n",
    "model = Sequential()\n",
    "model.add(layers.Embedding(input_dim = vocab_size, \n",
    "                           output_dim = embedding_dim,\n",
    "                           weights = [embedding_matrix],\n",
    "                           input_length = maxlen,\n",
    "                           trainable = True))\n",
    "model.add(layers.Conv1D(32, 3, padding = 'valid', strides = 1, activation = 'relu'))\n",
    "model.add(layers.MaxPool1D(3, 1, padding = 'valid'))\n",
    "model.add(layers.Dropout(0.3))\n",
    "model.add(layers.GRU(32, return_sequences = True))\n",
    "model.add(layers.GRU(16, return_sequences = False))\n",
    "model.add(layers.Dense(3, activation = 'softmax'))\n",
    "\n",
    "model.compile(optimizer = 'adam',\n",
    "              loss = 'categorical_crossentropy',\n",
    "              metrics = [tf.keras.metrics.AUC()])\n",
    "model.summary()"
   ]
  },
  {
   "cell_type": "code",
   "execution_count": 52,
   "metadata": {},
   "outputs": [
    {
     "name": "stdout",
     "output_type": "stream",
     "text": [
      "Model: \"sequential_7\"\n",
      "_________________________________________________________________\n",
      "Layer (type)                 Output Shape              Param #   \n",
      "=================================================================\n",
      "embedding_7 (Embedding)      (None, 50, 200)           451600    \n",
      "_________________________________________________________________\n",
      "conv1d_11 (Conv1D)           (None, 47, 32)            25632     \n",
      "_________________________________________________________________\n",
      "max_pooling1d_11 (MaxPooling (None, 46, 32)            0         \n",
      "_________________________________________________________________\n",
      "dropout_15 (Dropout)         (None, 46, 32)            0         \n",
      "_________________________________________________________________\n",
      "conv1d_12 (Conv1D)           (None, 44, 32)            3104      \n",
      "_________________________________________________________________\n",
      "max_pooling1d_12 (MaxPooling (None, 43, 32)            0         \n",
      "_________________________________________________________________\n",
      "dropout_16 (Dropout)         (None, 43, 32)            0         \n",
      "_________________________________________________________________\n",
      "conv1d_13 (Conv1D)           (None, 42, 32)            2080      \n",
      "_________________________________________________________________\n",
      "max_pooling1d_13 (MaxPooling (None, 41, 32)            0         \n",
      "_________________________________________________________________\n",
      "dropout_17 (Dropout)         (None, 41, 32)            0         \n",
      "_________________________________________________________________\n",
      "flatten_2 (Flatten)          (None, 1312)              0         \n",
      "_________________________________________________________________\n",
      "dense_11 (Dense)             (None, 16)                21008     \n",
      "_________________________________________________________________\n",
      "dropout_18 (Dropout)         (None, 16)                0         \n",
      "_________________________________________________________________\n",
      "dense_12 (Dense)             (None, 3)                 51        \n",
      "=================================================================\n",
      "Total params: 503,475\n",
      "Trainable params: 503,475\n",
      "Non-trainable params: 0\n",
      "_________________________________________________________________\n"
     ]
    }
   ],
   "source": [
    "#CNN\n",
    "\n",
    "model = Sequential()\n",
    "model.add(layers.Embedding(input_dim = vocab_size, \n",
    "                           output_dim = embedding_dim,\n",
    "                           weights = [embedding_matrix],\n",
    "                           input_length = maxlen,\n",
    "                           trainable = True))\n",
    "model.add(layers.Conv1D(32, 4, padding = 'valid', strides = 1, activation = 'relu'))\n",
    "model.add(layers.MaxPool1D(2, 1))\n",
    "model.add(layers.Dropout(0.2))\n",
    "model.add(layers.Conv1D(32, 3, padding = 'valid', strides = 1, activation = 'relu'))\n",
    "model.add(layers.MaxPool1D(2, 1))\n",
    "model.add(layers.Dropout(0.2))\n",
    "model.add(layers.Conv1D(32, 2, padding = 'valid', strides = 1, activation = 'relu'))\n",
    "model.add(layers.MaxPool1D(2, 1))\n",
    "model.add(layers.Dropout(0.2))\n",
    "model.add(layers.Flatten())\n",
    "model.add(layers.Dense(16, activation = 'relu'))\n",
    "model.add(layers.Dropout(0.3))\n",
    "model.add(layers.Dense(3, activation = 'sigmoid'))\n",
    "model.compile(optimizer = 'adam',\n",
    "              loss = 'categorical_crossentropy',\n",
    "              metrics = ['accuracy'])\n",
    "model.summary()"
   ]
  },
  {
   "cell_type": "code",
   "execution_count": 15,
   "metadata": {},
   "outputs": [],
   "source": [
    "history = model.fit(X_train, y_train,\n",
    "                    epochs = 50,\n",
    "                    verbose = False,\n",
    "                    validation_data = (X_test, y_test),\n",
    "                    batch_size = 10)\n",
    "\n",
    "#loss, accuracy = model.evaluate(X_train, y_train, verbose = False)\n",
    "#print('Training Accuracy: {:.4f}'.format(  ))\n",
    "\n",
    "#loss, accuracy = model.evaluate(X_test, y_test, verbose = False)\n",
    "#print('Testing Accuracy: {:.4f}'.format(accuracy))\n",
    "\n",
    "#plot_history(history)"
   ]
  },
  {
   "cell_type": "code",
   "execution_count": 16,
   "metadata": {},
   "outputs": [
    {
     "data": {
      "text/plain": [
       "(0.5652173913043478, 0.6190476190476191, 0.5909090909090909)"
      ]
     },
     "execution_count": 16,
     "metadata": {},
     "output_type": "execute_result"
    }
   ],
   "source": [
    "prediction_train = [i.argmax() for i in model.predict(X_train)]\n",
    "prediction_test = [i.argmax() for i in model.predict(X_test)]\n",
    "\n",
    "Y_train_hat = np.array(prediction_train)\n",
    "Y_test_hat = np.array(prediction_test)\n",
    "Y_train = np.array([i.argmax() for i in y_train])\n",
    "Y_test = np.array([i.argmax() for i in y_test])\n",
    "\n",
    "tp = sum((Y_test == Y_test_hat) & (Y_test == 2))\n",
    "tn = sum((Y_test == Y_test_hat) & (Y_test != 2))\n",
    "fp = sum((Y_test != Y_test_hat) & (Y_test_hat == 2))\n",
    "fn = sum((Y_test != Y_test_hat) & (Y_test == 2))\n",
    "\n",
    "precision = tp/(tp+fp)\n",
    "recall = tp/(tp+fn)\n",
    "\n",
    "f1 = 2 * precision * recall / (precision + recall)\n",
    "precision, recall, f1"
   ]
  },
  {
   "cell_type": "code",
   "execution_count": null,
   "metadata": {},
   "outputs": [],
   "source": [
    "#Type, Training Accuracy, Testing Accuracy, precision, recall, F1 - twitter.27b.50d, embedding_dim = 50\n",
    "#LSTM, 0.9986, 0.6992, 0.48, 0.5714, 0.5217\n",
    "#GRU, 0.9918, 0.7033, 0.5417, 0.6190, 0.5778\n",
    "#CNN, 0.9973, 0.7236, 0.4286, 0.4286, 0.4286\n",
    "\n",
    "#Type, Training Accuracy, Testing Accuracy, precision, recall, F1 - twitter.27b.200d, embedding_dim = 200\n",
    "#LSTM, 1.0000, 0.6870, 0.5882, 0.4762, 0.5263\n",
    "#GRU, 0.9986, 0.6667, 0.625, 0.4762, 0.5405\n",
    "#CNN, 0.9973, 0.7195, 0.3939, 0.6190, 0.4815\n",
    "\n",
    "#Type, Training Accuracy, Testing Accuracy, precision, recall, F1 - twitter.27b.50d, embedding_dim = 50\n",
    "#GRU (Metrics = tf.keras.metrics.AUC()), N/A, N/A, 0.5652, 0.6190, 0.5909"
   ]
  },
  {
   "cell_type": "code",
   "execution_count": null,
   "metadata": {},
   "outputs": [],
   "source": []
  }
 ],
 "metadata": {
  "kernelspec": {
   "display_name": "Python 3",
   "language": "python",
   "name": "python3"
  },
  "language_info": {
   "codemirror_mode": {
    "name": "ipython",
    "version": 3
   },
   "file_extension": ".py",
   "mimetype": "text/x-python",
   "name": "python",
   "nbconvert_exporter": "python",
   "pygments_lexer": "ipython3",
   "version": "3.7.6"
  }
 },
 "nbformat": 4,
 "nbformat_minor": 4
}
