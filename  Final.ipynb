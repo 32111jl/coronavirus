{
 "cells": [
  {
   "cell_type": "code",
   "execution_count": 1,
   "metadata": {},
   "outputs": [],
   "source": [
    "import pandas as pd\n",
    "import numpy as np"
   ]
  },
  {
   "cell_type": "code",
   "execution_count": 2,
   "metadata": {},
   "outputs": [],
   "source": [
    "df = pd.read_csv(\"Posts(2).csv\")"
   ]
  },
  {
   "cell_type": "code",
   "execution_count": 3,
   "metadata": {},
   "outputs": [],
   "source": [
    "df['Text'] = df['Text'].str.lower()\n",
    "\n",
    "df['Text'] = df['Text'].str.replace('(#(\\w)+)', '')\n",
    "df['Text'] = df['Text'].str.replace('(@(\\w)+)', '')\n",
    "\n",
    "df['Text'] = df['Text'].str.replace('&', 'and')\n",
    "df['Text'] = df['Text'].str.replace('a-z0-9\\.\\?\\:\\. |', '')\n",
    "df['Text'] = df['Text'].str.replace('<[^<>]+>', '')\n",
    "df['Text'] = df['Text'].str.replace('[0-9]+', 'number')\n",
    "df['Text'] = df['Text'].str.replace('(http|https)://[^\\s]*', '')\n",
    "df['Text'] = df['Text'].str.replace('[\\.]+', '.')\n",
    "df['Text'] = df['Text'].str.replace('[\\,]+', ',')\n",
    "df['Text'] = df['Text'].str.replace('[\\?]+', '?')\n",
    "df['Text'] = df['Text'].str.replace('[\\!]+', '!')\n",
    "\n",
    "#df['Text'] = df['Text'].str.replace('yall', 'you all')\n",
    "#df['Text'] = df['Text'].str.replace('im', 'i am')\n",
    "#df['Text'] = df['Text'].str.replace('id', 'i would')\n",
    "#df['Text'] = df['Text'].str.replace('hes', 'he is')\n",
    "#df['Text'] = df['Text'].str.replace('its', 'it is')\n",
    "#df['Text'] = df['Text'].str.replace('isnt', 'is not')\n",
    "#df['Text'] = df['Text'].str.replace('arent', 'are not')\n",
    "#df['Text'] = df['Text'].str.replace('lemme', 'let me')\n",
    "#df['Text'] = df['Text'].str.replace('imma', 'i am going to')\n",
    "#df['Text'] = df['Text'].str.replace('cant', 'can not')\n",
    "#df['Text'] = df['Text'].str.replace('dont', 'do not')\n",
    "#df['Text'] = df['Text'].str.replace('didnt', 'did not')\n",
    "#df['Text'] = df['Text'].str.replace('doesnt', 'does not')\n",
    "#df['Text'] = df['Text'].str.replace('wouldnt', 'would not')\n",
    "#df['Text'] = df['Text'].str.replace('hasnt', 'has not')\n",
    "#df['Text'] = df['Text'].str.replace('havent', 'have not')\n",
    "#df['Text'] = df['Text'].str.replace('gonna', 'going to')\n",
    "#df['Text'] = df['Text'].str.replace('gotta', 'got to')\n",
    "#df['Text'] = df['Text'].str.replace('idk', 'i do not know')\n",
    "#df['Text'] = df['Text'].str.replace('kms', 'kill myself')\n",
    "#df['Text'] = df['Text'].str.replace('tf', 'the fuck')\n",
    "#df['Text'] = df['Text'].str.replace('wtf', 'what the fuck')\n",
    "#df['Text'] = df['Text'].str.replace('stfu', 'shut the fuck up')\n",
    "#df['Text'] = df['Text'].str.replace('fk', 'fuck')\n",
    "#df['Text'] = df['Text'].str.replace('rly', 'really')"
   ]
  },
  {
   "cell_type": "code",
   "execution_count": 4,
   "metadata": {},
   "outputs": [],
   "source": [
    "#from nltk.corpus import stopwords\n",
    "#nltk.download('stopwords')\n",
    "#from nltk.tokenize import word_tokenize\n",
    "\n",
    "#for text in df:\n",
    "#    text_tokens = word_tokenize(text)\n",
    "#    tokens_without_sw = [word for word in text_tokens if not word in stopwords.words()]"
   ]
  },
  {
   "cell_type": "code",
   "execution_count": 80,
   "metadata": {},
   "outputs": [
    {
     "data": {
      "text/plain": [
       "array(['a life without coffee is a life not worth living.wisdom of quarantine',\n",
       "       'life without risks is not worth living.',\n",
       "       'living your life in fear is a life not worth living.', ...,\n",
       "       'i was born crying but i wanna die smiling',\n",
       "       'i was born alone but i wanna die with the one i love the most',\n",
       "       'god forgive me, but i wanna die!'], dtype=object)"
      ]
     },
     "execution_count": 80,
     "metadata": {},
     "output_type": "execute_result"
    }
   ],
   "source": [
    "x_data = df['Text'].values\n",
    "y_data = df['Ideation'].values\n",
    "x_data"
   ]
  },
  {
   "cell_type": "code",
   "execution_count": 6,
   "metadata": {},
   "outputs": [],
   "source": [
    "from sklearn.feature_extraction.text import CountVectorizer\n",
    "from sklearn.model_selection import train_test_split\n",
    "from sklearn.linear_model import LogisticRegression\n",
    "from sklearn.preprocessing import OneHotEncoder"
   ]
  },
  {
   "cell_type": "code",
   "execution_count": 7,
   "metadata": {},
   "outputs": [],
   "source": [
    "x_train, x_test, y_train, y_test = train_test_split(x_data, y_data, test_size = 0.25, random_state = 42)"
   ]
  },
  {
   "cell_type": "code",
   "execution_count": 8,
   "metadata": {},
   "outputs": [],
   "source": [
    "import tensorflow as tf\n",
    "from tensorflow import keras\n",
    "from tensorflow.keras import layers\n",
    "from tensorflow.keras.models import Sequential"
   ]
  },
  {
   "cell_type": "code",
   "execution_count": 79,
   "metadata": {},
   "outputs": [],
   "source": [
    "from tensorflow.keras.preprocessing.text import Tokenizer\n",
    "\n",
    "tokenizer = Tokenizer(num_words = 5000)\n",
    "tokenizer.fit_on_texts(x_train)\n",
    "\n",
    "X_train = tokenizer.texts_to_sequences(x_train)\n",
    "X_test = tokenizer.texts_to_sequences(x_test)\n",
    "\n",
    "vocab_size = len(tokenizer.word_index) + 1"
   ]
  },
  {
   "cell_type": "code",
   "execution_count": 10,
   "metadata": {},
   "outputs": [],
   "source": [
    "from tensorflow.keras.preprocessing.sequence import pad_sequences\n",
    "\n",
    "maxlen = 50\n",
    "X_train = pad_sequences(X_train, padding = 'post', maxlen = maxlen)\n",
    "X_test = pad_sequences(X_test, padding = 'post', maxlen = maxlen)"
   ]
  },
  {
   "cell_type": "code",
   "execution_count": 11,
   "metadata": {},
   "outputs": [],
   "source": [
    "encoder = OneHotEncoder(sparse = False)\n",
    "\n",
    "y_train = y_train.reshape((len(y_train), 1))\n",
    "y_train = encoder.fit_transform(y_train)\n",
    "\n",
    "y_test = y_test.reshape((len(y_test), 1))\n",
    "y_test = encoder.fit_transform(y_test)"
   ]
  },
  {
   "cell_type": "code",
   "execution_count": 12,
   "metadata": {},
   "outputs": [],
   "source": [
    "import matplotlib.pyplot as plt\n",
    "plt.style.use('ggplot')\n",
    "\n",
    "def plot_history(history):\n",
    "    acc = history.history['accuracy']\n",
    "    val_acc = history.history['val_accuracy']\n",
    "    loss = history.history['loss']\n",
    "    val_loss = history.history['val_loss']\n",
    "    x = range(1, len(acc) + 1)\n",
    "    \n",
    "    plt.figure(figsize = (12, 5))\n",
    "    plt.subplot(1, 2, 1)\n",
    "    plt.plot(x, acc, 'b', label = 'Training accuracy')\n",
    "    plt.plot(x, val_acc, 'r', label = 'Validation accuracy')\n",
    "    plt.title('Training and validation acccuracy')\n",
    "    plt.legend()\n",
    "    \n",
    "    plt.subplot(1, 2, 2)\n",
    "    plt.plot(x, loss, 'b', label = 'Training loss')\n",
    "    plt.plot(x, val_loss, 'r', label = 'Validation loss')\n",
    "    plt.title('Training and validation loss')\n",
    "    plt.legend()"
   ]
  },
  {
   "cell_type": "code",
   "execution_count": 13,
   "metadata": {},
   "outputs": [],
   "source": [
    "import numpy as np\n",
    "\n",
    "def create_embedding_matrix(filepath, word_index, embedding_dim):\n",
    "    vocab_size = len(word_index) + 1\n",
    "    embedding_matrix = np.zeros((vocab_size, embedding_dim))\n",
    "    \n",
    "    with open(filepath, encoding = 'utf8') as f:\n",
    "        for line in f:\n",
    "            values = line.split()\n",
    "            if values[0] in word_index:\n",
    "                idx = word_index[values[0]]\n",
    "                embedding_matrix[idx] = np.asarray(values[1:embedding_dim+1], 'float32')\n",
    "                \n",
    "    return embedding_matrix"
   ]
  },
  {
   "cell_type": "code",
   "execution_count": 14,
   "metadata": {},
   "outputs": [],
   "source": [
    "embedding_dim = 50\n",
    "embedding_matrix = create_embedding_matrix('glove.twitter.27B.50d.txt', \n",
    "                                           tokenizer.word_index, \n",
    "                                           embedding_dim)"
   ]
  },
  {
   "cell_type": "code",
   "execution_count": 15,
   "metadata": {},
   "outputs": [],
   "source": [
    "#LSTM\n",
    "\n",
    "model = Sequential()\n",
    "model.add(layers.Embedding(input_dim = vocab_size, \n",
    "                           output_dim = embedding_dim,\n",
    "                           weights = [embedding_matrix],\n",
    "                           input_length = maxlen,\n",
    "                           trainable = True))\n",
    "model.add(layers.Conv1D(32, 3, padding = 'valid', strides = 1, activation = 'relu'))\n",
    "model.add(layers.MaxPool1D(pool_size = 3, strides = 1, padding = 'valid'))\n",
    "model.add(layers.Dropout(0.3))\n",
    "model.add(layers.Bidirectional(layers.LSTM(32)))\n",
    "model.add(layers.Dense(16, activation = 'relu'))\n",
    "model.add(layers.Dropout(0.3))\n",
    "model.add(layers.Dense(3, activation = 'softmax'))"
   ]
  },
  {
   "cell_type": "code",
   "execution_count": 33,
   "metadata": {},
   "outputs": [],
   "source": [
    "#GRU\n",
    "\n",
    "model = Sequential()\n",
    "model.add(layers.Embedding(input_dim = vocab_size, \n",
    "                           output_dim = embedding_dim,\n",
    "                           weights = [embedding_matrix],\n",
    "                           input_length = maxlen,\n",
    "                           trainable = True))\n",
    "model.add(layers.Conv1D(48, 3, padding = 'valid', strides = 1, activation = 'relu'))\n",
    "model.add(layers.MaxPool1D(3, 1, padding = 'valid'))\n",
    "model.add(layers.Dropout(0.3))\n",
    "model.add(layers.GRU(48, return_sequences = True))\n",
    "#model.add(layers.GRU(12, return_sequences = False))\n",
    "#model.add(layers.Dropout(0.3))\n",
    "model.add(layers.SimpleRNN(12))\n",
    "model.add(layers.Dense(3, activation = 'softmax'))"
   ]
  },
  {
   "cell_type": "code",
   "execution_count": 20,
   "metadata": {},
   "outputs": [],
   "source": [
    "#CNN\n",
    "\n",
    "model = Sequential()\n",
    "model.add(layers.Embedding(input_dim = vocab_size, \n",
    "                           output_dim = embedding_dim,\n",
    "                           weights = [embedding_matrix],\n",
    "                           input_length = maxlen,\n",
    "                           trainable = True))\n",
    "model.add(layers.Conv1D(32, 4, padding = 'valid', strides = 1, activation = 'relu'))\n",
    "model.add(layers.MaxPool1D(2, 1))\n",
    "model.add(layers.Dropout(0.2))\n",
    "model.add(layers.Conv1D(32, 3, padding = 'valid', strides = 1, activation = 'relu'))\n",
    "model.add(layers.MaxPool1D(2, 1))\n",
    "model.add(layers.Dropout(0.2))\n",
    "model.add(layers.Conv1D(32, 2, padding = 'valid', strides = 1, activation = 'relu'))\n",
    "model.add(layers.MaxPool1D(2, 1))\n",
    "model.add(layers.Dropout(0.2))\n",
    "model.add(layers.Flatten())\n",
    "model.add(layers.Dense(16, activation = 'relu'))\n",
    "model.add(layers.Dropout(0.3))\n",
    "model.add(layers.Dense(3, activation = 'softmax'))"
   ]
  },
  {
   "cell_type": "code",
   "execution_count": 21,
   "metadata": {},
   "outputs": [],
   "source": [
    "#Mixed\n",
    "\n",
    "model = Sequential()\n",
    "model.add(layers.Embedding(input_dim = vocab_size, \n",
    "                           output_dim = embedding_dim,\n",
    "                           weights = [embedding_matrix],\n",
    "                           input_length = maxlen,\n",
    "                           trainable = True))\n",
    "model.add(layers.Conv1D(32, 4, padding = 'valid', strides = 1, activation = 'relu'))\n",
    "model.add(layers.MaxPool1D(2, 1))\n",
    "model.add(layers.Dropout(0.3))\n",
    "model.add(layers.Conv1D(32, 3, padding = 'valid', strides = 1, activation = 'relu'))\n",
    "model.add(layers.MaxPool1D(2, 1))\n",
    "model.add(layers.Dropout(0.3))\n",
    "model.add(layers.Conv1D(32, 2, padding = 'valid', strides = 1, activation = 'relu'))\n",
    "model.add(layers.MaxPool1D(2, 1))\n",
    "model.add(layers.Dropout(0.3))\n",
    "model.add(layers.GRU(32, return_sequences = True))\n",
    "model.add(layers.GRU(16, return_sequences = False))\n",
    "model.add(layers.Dense(3, activation = 'softmax'))"
   ]
  },
  {
   "cell_type": "code",
   "execution_count": 34,
   "metadata": {},
   "outputs": [
    {
     "name": "stdout",
     "output_type": "stream",
     "text": [
      "Model: \"sequential_3\"\n",
      "_________________________________________________________________\n",
      "Layer (type)                 Output Shape              Param #   \n",
      "=================================================================\n",
      "embedding_3 (Embedding)      (None, 50, 50)            102050    \n",
      "_________________________________________________________________\n",
      "conv1d_3 (Conv1D)            (None, 48, 48)            7248      \n",
      "_________________________________________________________________\n",
      "max_pooling1d_3 (MaxPooling1 (None, 46, 48)            0         \n",
      "_________________________________________________________________\n",
      "dropout_4 (Dropout)          (None, 46, 48)            0         \n",
      "_________________________________________________________________\n",
      "gru_2 (GRU)                  (None, 46, 48)            14112     \n",
      "_________________________________________________________________\n",
      "simple_rnn_2 (SimpleRNN)     (None, 12)                732       \n",
      "_________________________________________________________________\n",
      "dense_4 (Dense)              (None, 3)                 39        \n",
      "=================================================================\n",
      "Total params: 124,181\n",
      "Trainable params: 124,181\n",
      "Non-trainable params: 0\n",
      "_________________________________________________________________\n"
     ]
    }
   ],
   "source": [
    "model.compile(optimizer = 'adam',\n",
    "              loss = 'categorical_crossentropy',\n",
    "              metrics = [tf.keras.metrics.RecallAtPrecision(0.80)])\n",
    "model.summary()"
   ]
  },
  {
   "cell_type": "code",
   "execution_count": 49,
   "metadata": {},
   "outputs": [
    {
     "name": "stdout",
     "output_type": "stream",
     "text": [
      "Epoch 1/5\n",
      "989/989 [==============================] - 24s 24ms/step - loss: 0.2183 - recall_at_precision_2: 0.9727 - val_loss: 1.4951 - val_recall_at_precision_2: 0.0000e+00\n",
      "Epoch 2/5\n",
      "989/989 [==============================] - 24s 24ms/step - loss: 0.1275 - recall_at_precision_2: 0.9929 - val_loss: 1.5848 - val_recall_at_precision_2: 0.0000e+00\n",
      "Epoch 3/5\n",
      "989/989 [==============================] - 24s 24ms/step - loss: 0.1596 - recall_at_precision_2: 0.9899 - val_loss: 1.4193 - val_recall_at_precision_2: 0.0000e+00\n",
      "Epoch 4/5\n",
      "989/989 [==============================] - 27s 27ms/step - loss: 0.1063 - recall_at_precision_2: 0.9919 - val_loss: 1.5159 - val_recall_at_precision_2: 0.0000e+00\n",
      "Epoch 5/5\n",
      "989/989 [==============================] - 25s 25ms/step - loss: 0.1132 - recall_at_precision_2: 0.9929 - val_loss: 1.3929 - val_recall_at_precision_2: 0.3273\n"
     ]
    }
   ],
   "source": [
    "history = model.fit(X_train, y_train,\n",
    "                    epochs = 5,\n",
    "                    verbose = 1,\n",
    "                    validation_data = (X_test, y_test),\n",
    "                    batch_size = 1)"
   ]
  },
  {
   "cell_type": "code",
   "execution_count": 50,
   "metadata": {},
   "outputs": [
    {
     "data": {
      "text/plain": [
       "(0.7611940298507462, 0.6710526315789473, 0.7132867132867132)"
      ]
     },
     "execution_count": 50,
     "metadata": {},
     "output_type": "execute_result"
    }
   ],
   "source": [
    "prediction_train = [i.argmax() for i in model.predict(X_train)]\n",
    "prediction_test = [i.argmax() for i in model.predict(X_test)]\n",
    "\n",
    "Y_train_hat = np.array(prediction_train)\n",
    "Y_test_hat = np.array(prediction_test)\n",
    "Y_train = np.array([i.argmax() for i in y_train])\n",
    "Y_test = np.array([i.argmax() for i in y_test])\n",
    "\n",
    "tp = sum((Y_test == Y_test_hat) & (Y_test == 2))\n",
    "tn = sum((Y_test == Y_test_hat) & (Y_test != 2))\n",
    "fp = sum((Y_test != Y_test_hat) & (Y_test_hat == 2))\n",
    "fn = sum((Y_test != Y_test_hat) & (Y_test == 2))\n",
    "\n",
    "precision = tp/(tp+fp)\n",
    "recall = tp/(tp+fn)\n",
    "\n",
    "f1 = 2 * precision * recall / (precision + recall)\n",
    "precision, recall, f1"
   ]
  },
  {
   "cell_type": "code",
   "execution_count": 51,
   "metadata": {},
   "outputs": [
    {
     "name": "stdout",
     "output_type": "stream",
     "text": [
      "Training Accuracy: 0.9980\n",
      "Testing Accuracy: 0.3273\n"
     ]
    }
   ],
   "source": [
    "loss, accuracy = model.evaluate(X_train, y_train, verbose = False)\n",
    "print('Training Accuracy: {:.4f}'.format(accuracy))\n",
    "\n",
    "loss, accuracy = model.evaluate(X_test, y_test, verbose = False)\n",
    "print('Testing Accuracy: {:.4f}'.format(accuracy))"
   ]
  },
  {
   "cell_type": "code",
   "execution_count": 27,
   "metadata": {
    "collapsed": true,
    "jupyter": {
     "outputs_hidden": true
    }
   },
   "outputs": [
    {
     "ename": "KeyError",
     "evalue": "'accuracy'",
     "output_type": "error",
     "traceback": [
      "\u001b[1;31m---------------------------------------------------------------------------\u001b[0m",
      "\u001b[1;31mKeyError\u001b[0m                                  Traceback (most recent call last)",
      "\u001b[1;32m<ipython-input-27-a8489d1127d4>\u001b[0m in \u001b[0;36m<module>\u001b[1;34m\u001b[0m\n\u001b[1;32m----> 1\u001b[1;33m \u001b[0mplot_history\u001b[0m\u001b[1;33m(\u001b[0m\u001b[0mhistory\u001b[0m\u001b[1;33m)\u001b[0m\u001b[1;33m\u001b[0m\u001b[1;33m\u001b[0m\u001b[0m\n\u001b[0m",
      "\u001b[1;32m<ipython-input-12-e5c8aff1d579>\u001b[0m in \u001b[0;36mplot_history\u001b[1;34m(history)\u001b[0m\n\u001b[0;32m      3\u001b[0m \u001b[1;33m\u001b[0m\u001b[0m\n\u001b[0;32m      4\u001b[0m \u001b[1;32mdef\u001b[0m \u001b[0mplot_history\u001b[0m\u001b[1;33m(\u001b[0m\u001b[0mhistory\u001b[0m\u001b[1;33m)\u001b[0m\u001b[1;33m:\u001b[0m\u001b[1;33m\u001b[0m\u001b[1;33m\u001b[0m\u001b[0m\n\u001b[1;32m----> 5\u001b[1;33m     \u001b[0macc\u001b[0m \u001b[1;33m=\u001b[0m \u001b[0mhistory\u001b[0m\u001b[1;33m.\u001b[0m\u001b[0mhistory\u001b[0m\u001b[1;33m[\u001b[0m\u001b[1;34m'accuracy'\u001b[0m\u001b[1;33m]\u001b[0m\u001b[1;33m\u001b[0m\u001b[1;33m\u001b[0m\u001b[0m\n\u001b[0m\u001b[0;32m      6\u001b[0m     \u001b[0mval_acc\u001b[0m \u001b[1;33m=\u001b[0m \u001b[0mhistory\u001b[0m\u001b[1;33m.\u001b[0m\u001b[0mhistory\u001b[0m\u001b[1;33m[\u001b[0m\u001b[1;34m'val_accuracy'\u001b[0m\u001b[1;33m]\u001b[0m\u001b[1;33m\u001b[0m\u001b[1;33m\u001b[0m\u001b[0m\n\u001b[0;32m      7\u001b[0m     \u001b[0mloss\u001b[0m \u001b[1;33m=\u001b[0m \u001b[0mhistory\u001b[0m\u001b[1;33m.\u001b[0m\u001b[0mhistory\u001b[0m\u001b[1;33m[\u001b[0m\u001b[1;34m'loss'\u001b[0m\u001b[1;33m]\u001b[0m\u001b[1;33m\u001b[0m\u001b[1;33m\u001b[0m\u001b[0m\n",
      "\u001b[1;31mKeyError\u001b[0m: 'accuracy'"
     ]
    }
   ],
   "source": [
    "plot_history(history)"
   ]
  },
  {
   "cell_type": "code",
   "execution_count": null,
   "metadata": {},
   "outputs": [],
   "source": [
    "#Type, Training Accuracy, Testing Accuracy, precision, recall, F1 - twitter.27b.50d, embedding_dim = 50\n",
    "#LSTM, 0.9986, 0.6992, 0.48, 0.5714, 0.5217\n",
    "#GRU, 0.9918, 0.7033, 0.5417, 0.6190, 0.5778\n",
    "#CNN, 0.9973, 0.6260, 0.4444, 0.5714, 0.5\n",
    "\n",
    "#Type, Training Accuracy, Testing Accuracy, precision, recall, F1 - twitter.27b.200d, embedding_dim = 200\n",
    "#LSTM, 1.0000, 0.6870, 0.5882, 0.4762, 0.5263\n",
    "#GRU, 0.9986, 0.6667, 0.625, 0.4762, 0.5405\n",
    "#CNN, 0.9973, 0.7195, 0.3939, 0.6190, 0.4815\n",
    "\n",
    "#Type, Training Accuracy, Testing Accuracy, precision, recall, F1 - twitter.27b.50d, embedding_dim = 50\n",
    "#GRU (Metrics = tf.keras.metrics.AUC()), N/A, N/A, 0.5652, 0.6190, 0.5909\n",
    "\n",
    "#Type, Training Accuracy, Testing Accuracy, precision, recall F1 - twitter.27b.50d, embedding_dim = 50, new data\n",
    "#GRU (Metric = tf.keras.metrics.AUC()), N/A, N/A, 0.8605, 0.5441, 0.6666"
   ]
  },
  {
   "cell_type": "code",
   "execution_count": 20,
   "metadata": {},
   "outputs": [],
   "source": [
    "from tensorflow.keras.models import model_from_json\n",
    "from tensorflow.keras.models import load_model"
   ]
  },
  {
   "cell_type": "code",
   "execution_count": 21,
   "metadata": {},
   "outputs": [],
   "source": [
    "# serialize model to JSON\n",
    "#  the keras model which is trained is defined as 'model' in this example\n",
    "model_json = model.to_json()\n",
    "\n",
    "\n",
    "with open(\"model_.json\", \"w\") as json_file:\n",
    "    json_file.write(model_json)\n",
    "    \n",
    "model.save_weights(\"model_.h5\")"
   ]
  },
  {
   "cell_type": "code",
   "execution_count": 22,
   "metadata": {},
   "outputs": [],
   "source": [
    "json_file = open('model_800.json', 'r')\n",
    "\n",
    "loaded_model_json = json_file.read()\n",
    "json_file.close()\n",
    "loaded_model = model_from_json(loaded_model_json)\n",
    "\n",
    "# load weights into new model\n",
    "loaded_model.load_weights(\"model_800.h5\")"
   ]
  },
  {
   "cell_type": "code",
   "execution_count": 23,
   "metadata": {},
   "outputs": [
    {
     "data": {
      "text/plain": [
       "(0.8108108108108109, 0.7894736842105263, 0.8)"
      ]
     },
     "execution_count": 23,
     "metadata": {},
     "output_type": "execute_result"
    }
   ],
   "source": [
    "prediction_train = [i.argmax() for i in loaded_model.predict(X_train)]\n",
    "prediction_test = [i.argmax() for i in loaded_model.predict(X_test)]\n",
    "\n",
    "Y_train_hat = np.array(prediction_train)\n",
    "Y_test_hat = np.array(prediction_test)\n",
    "Y_train = np.array([i.argmax() for i in y_train])\n",
    "Y_test = np.array([i.argmax() for i in y_test])\n",
    "\n",
    "tp = sum((Y_test == Y_test_hat) & (Y_test == 2))\n",
    "tn = sum((Y_test == Y_test_hat) & (Y_test != 2))\n",
    "fp = sum((Y_test != Y_test_hat) & (Y_test_hat == 2))\n",
    "fn = sum((Y_test != Y_test_hat) & (Y_test == 2))\n",
    "\n",
    "precision = tp/(tp+fp)\n",
    "recall = tp/(tp+fn)\n",
    "\n",
    "f1 = 2 * precision * recall / (precision + recall)\n",
    "precision, recall, f1"
   ]
  },
  {
   "cell_type": "code",
   "execution_count": 86,
   "metadata": {},
   "outputs": [
    {
     "data": {
      "text/plain": [
       "[[1], [], [1262], [1], [1775], [1775], [], [], [], [], [], [1775], []]"
      ]
     },
     "execution_count": 86,
     "metadata": {},
     "output_type": "execute_result"
    }
   ],
   "source": [
    "test = \"I kill myself\"\n",
    "test = test.lower()\n",
    "\n",
    "test = test.replace('(#(\\w)+)', '')\n",
    "test = test.replace('(@(\\w)+)', '')\n",
    "\n",
    "test = test.replace('&', 'and')\n",
    "test = test.replace('a-z0-9\\.\\?\\:\\. |', '')\n",
    "test = test.replace('<[^<>]+>', '')\n",
    "test = test.replace('[0-9]+', 'number')\n",
    "test = test.replace('(http|https)://[^\\s]*', '')\n",
    "test = test.replace('[\\.]+', '.')\n",
    "test = test.replace('[\\,]+', ',')\n",
    "test = test.replace('[\\?]+', '?')\n",
    "test = test.replace('[\\!]+', '!')\n",
    "\n",
    "test = tokenizer.texts_to_sequences(test)\n",
    "test"
   ]
  },
  {
   "cell_type": "code",
   "execution_count": null,
   "metadata": {},
   "outputs": [],
   "source": []
  }
 ],
 "metadata": {
  "kernelspec": {
   "display_name": "Python 3",
   "language": "python",
   "name": "python3"
  },
  "language_info": {
   "codemirror_mode": {
    "name": "ipython",
    "version": 3
   },
   "file_extension": ".py",
   "mimetype": "text/x-python",
   "name": "python",
   "nbconvert_exporter": "python",
   "pygments_lexer": "ipython3",
   "version": "3.7.6"
  }
 },
 "nbformat": 4,
 "nbformat_minor": 4
}
